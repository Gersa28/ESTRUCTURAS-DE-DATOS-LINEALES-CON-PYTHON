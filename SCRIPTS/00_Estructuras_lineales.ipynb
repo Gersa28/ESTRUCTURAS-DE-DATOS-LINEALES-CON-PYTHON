{
 "cells": [
  {
   "cell_type": "code",
   "execution_count": 14,
   "metadata": {},
   "outputs": [
    {
     "name": "stdout",
     "output_type": "stream",
     "text": [
      "list = 56 bytes\n",
      "tuple = 40 bytes\n",
      "dict = 64 bytes\n",
      "set = 216 bytes\n"
     ]
    }
   ],
   "source": [
    "\"\"\"\n",
    "Es muy importante saber cuando usar una cierta colección, ya que de ello depende tanto el tamaño que ocupará en memoría \n",
    "como la velocidad en ciertas tareas. De forma general es recomendable usar tuplas en lugar de listas siempre que \n",
    "no se requiera estar cambiando los valores, ya que ocupan menos espacio en memoría. Así como usar sets o diccionarios \n",
    "para busqueda de un elemento, ya que son más rapidos\n",
    "\"\"\"\n",
    "import sys\n",
    "\n",
    "colecciones = {\"list\": list(), \"tuple\": tuple(), \"dict\": dict(), \"set\": set()}\n",
    "\n",
    "for name, value in colecciones.items():\n",
    "    print(f'{name} = {sys.getsizeof(value)} bytes')"
   ]
  },
  {
   "cell_type": "markdown",
   "metadata": {},
   "source": [
    "## Crear un array"
   ]
  },
  {
   "cell_type": "markdown",
   "metadata": {},
   "source": [
    "![alt text](image.png)"
   ]
  },
  {
   "cell_type": "code",
   "execution_count": 15,
   "metadata": {},
   "outputs": [],
   "source": [
    "class Array(object):\n",
    "    \"\"\"Representa un array.\n",
    "\n",
    "    Clase de tipo array\n",
    "    Métodos:\n",
    "        1. Longitud\n",
    "        2. Representación en cadena\n",
    "        3. Pertinencia\n",
    "        4. Índice.\n",
    "        5. Reemplazo\n",
    "    \"\"\"\n",
    "\n",
    "    def __init__(self, capacidad, valor_llenado=None):\n",
    "        \"\"\"\n",
    "        Inicializa un objeto Array.\n",
    "\n",
    "        Args:\n",
    "            capacidad (int): tamaño estático del array.\n",
    "            valor_llenado (cualquiera, opcional): valor en cada posición. Por defecto es None.\n",
    "        \"\"\"\n",
    "        self.items = list()\n",
    "        for i in range(capacidad):\n",
    "            self.items.append(valor_llenado)\n",
    "\n",
    "    def __len__(self):\n",
    "        \"\"\"Devuelve la capacidad del array.\"\"\"\n",
    "        return len(self.items)\n",
    "\n",
    "    def __str__(self):\n",
    "        \"\"\"Devuelve la representación en cadena del array.\"\"\"\n",
    "        return str(self.items)\n",
    "\n",
    "    def __iter__(self):\n",
    "        \"\"\"Compatibilidad con el recorrido con un bucle for.\"\"\"\n",
    "        return iter(self.items)\n",
    "\n",
    "    def __getitem__(self, indice):\n",
    "        \"\"\"Operador de subíndice para acceso al índice.\"\"\"\n",
    "        return self.items[indice]\n",
    "\n",
    "    def __setitem__(self, indice, nuevo_item):\n",
    "        \"\"\"Operador de subíndice para reemplazo en el índice.\"\"\"\n",
    "        self.items[indice] = nuevo_item\n"
   ]
  },
  {
   "cell_type": "code",
   "execution_count": 16,
   "metadata": {},
   "outputs": [
    {
     "data": {
      "text/plain": [
       "5"
      ]
     },
     "execution_count": 16,
     "metadata": {},
     "output_type": "execute_result"
    }
   ],
   "source": [
    "menu = Array(5)\n",
    "len(menu)"
   ]
  },
  {
   "cell_type": "code",
   "execution_count": 17,
   "metadata": {},
   "outputs": [
    {
     "name": "stdout",
     "output_type": "stream",
     "text": [
      "[None, None, None, None, None]\n"
     ]
    }
   ],
   "source": [
    "print(menu)"
   ]
  },
  {
   "cell_type": "code",
   "execution_count": 18,
   "metadata": {},
   "outputs": [
    {
     "data": {
      "text/plain": [
       "3"
      ]
     },
     "execution_count": 18,
     "metadata": {},
     "output_type": "execute_result"
    }
   ],
   "source": [
    "for i in range(len(menu)):\n",
    "    menu[i] = i + 1\n",
    "\n",
    "menu[2]"
   ]
  },
  {
   "cell_type": "code",
   "execution_count": 19,
   "metadata": {},
   "outputs": [
    {
     "name": "stdout",
     "output_type": "stream",
     "text": [
      "[1, 2, 3, 4, 5]\n",
      "[1, 2, 3, 4, 5]\n",
      "[1, 2, 3, 4, 5]\n",
      "[1, 2, 3, 4, 5]\n",
      "[1, 2, 3, 4, 5]\n"
     ]
    }
   ],
   "source": [
    "for item in menu:\n",
    "    print(menu)"
   ]
  },
  {
   "cell_type": "code",
   "execution_count": 20,
   "metadata": {},
   "outputs": [
    {
     "data": {
      "text/plain": [
       "5"
      ]
     },
     "execution_count": 20,
     "metadata": {},
     "output_type": "execute_result"
    }
   ],
   "source": [
    "menu.__len__()"
   ]
  },
  {
   "cell_type": "code",
   "execution_count": 21,
   "metadata": {},
   "outputs": [
    {
     "data": {
      "text/plain": [
       "'[1, 2, 3, 4, 5]'"
      ]
     },
     "execution_count": 21,
     "metadata": {},
     "output_type": "execute_result"
    }
   ],
   "source": [
    "menu.__str__()"
   ]
  },
  {
   "cell_type": "code",
   "execution_count": 22,
   "metadata": {},
   "outputs": [
    {
     "data": {
      "text/plain": [
       "<list_iterator at 0x2464069f160>"
      ]
     },
     "execution_count": 22,
     "metadata": {},
     "output_type": "execute_result"
    }
   ],
   "source": [
    "menu.__iter__()"
   ]
  },
  {
   "cell_type": "code",
   "execution_count": 23,
   "metadata": {},
   "outputs": [
    {
     "data": {
      "text/plain": [
       "3"
      ]
     },
     "execution_count": 23,
     "metadata": {},
     "output_type": "execute_result"
    }
   ],
   "source": [
    "menu.__getitem__(2)"
   ]
  },
  {
   "cell_type": "code",
   "execution_count": 24,
   "metadata": {},
   "outputs": [],
   "source": [
    "menu.__setitem__(2, 100)"
   ]
  },
  {
   "cell_type": "code",
   "execution_count": 25,
   "metadata": {},
   "outputs": [
    {
     "data": {
      "text/plain": [
       "100"
      ]
     },
     "execution_count": 25,
     "metadata": {},
     "output_type": "execute_result"
    }
   ],
   "source": [
    "menu.__getitem__(2)"
   ]
  },
  {
   "attachments": {},
   "cell_type": "markdown",
   "metadata": {},
   "source": [
    "## Arrays de dos dimensiones "
   ]
  },
  {
   "cell_type": "code",
   "execution_count": 26,
   "metadata": {},
   "outputs": [],
   "source": [
    "class Grid(object):\n",
    "    \"\"\"Represents a two-dimensional array.\"\"\"\n",
    "    def __init__(self, rows, columns, fill_value = None): # Método contructor\n",
    "        self.data = Array(rows)\n",
    "        for row in range(rows):\n",
    "            self.data[row] = Array(columns, fill_value)\n",
    "\n",
    "    def get_height(self):\n",
    "        \"Returns the number of rows.\"\n",
    "        return len(self.data)\n",
    "\n",
    "    def get_width(self):\n",
    "        \"\"\"Returns the number of columns.\"\"\"\n",
    "        return len(self.data[0])\n",
    "\n",
    "    def __getitem__(self, index):\n",
    "        \"\"\"Supports two-dimensional indexing with [row][column].\"\"\"\n",
    "        return self.data[index]\n",
    "\n",
    "    def __str__(self):\n",
    "        \"\"\"Returns a string representation of the grid.\"\"\"\n",
    "        result = \"\"\n",
    "\n",
    "        for row in range(self.get_height()):\n",
    "            for col in range(self.get_width()):\n",
    "                result += str(self.data[row][col]) + \" \"\n",
    "\n",
    "            result += \"\\n\"\n",
    "\n",
    "        return str(result)\n"
   ]
  },
  {
   "cell_type": "code",
   "execution_count": 27,
   "metadata": {},
   "outputs": [
    {
     "name": "stdout",
     "output_type": "stream",
     "text": [
      "None None None \n",
      "None None None \n",
      "None None None \n",
      "\n"
     ]
    }
   ],
   "source": [
    "'''\n",
    "Code used in the shell to instance a grid\n",
    "'''\n",
    "matrix = Grid(3, 3)\n",
    "print(matrix) # Esto se puede hacer gracias al método __str__"
   ]
  },
  {
   "cell_type": "code",
   "execution_count": 28,
   "metadata": {},
   "outputs": [
    {
     "name": "stdout",
     "output_type": "stream",
     "text": [
      "1 1 1 \n",
      "1 2 3 \n",
      "1 3 5 \n",
      "\n"
     ]
    }
   ],
   "source": [
    "for row in range(matrix.get_height()):\n",
    "    for column in range(matrix.get_width()):\n",
    "        matrix[row][column] = row * column + 1\n",
    "\n",
    "print(matrix)"
   ]
  },
  {
   "cell_type": "code",
   "execution_count": 29,
   "metadata": {},
   "outputs": [
    {
     "data": {
      "text/plain": [
       "3"
      ]
     },
     "execution_count": 29,
     "metadata": {},
     "output_type": "execute_result"
    }
   ],
   "source": [
    "matrix.get_height()"
   ]
  },
  {
   "cell_type": "code",
   "execution_count": 30,
   "metadata": {},
   "outputs": [
    {
     "data": {
      "text/plain": [
       "3"
      ]
     },
     "execution_count": 30,
     "metadata": {},
     "output_type": "execute_result"
    }
   ],
   "source": [
    "matrix.get_width()"
   ]
  },
  {
   "cell_type": "code",
   "execution_count": 31,
   "metadata": {},
   "outputs": [
    {
     "data": {
      "text/plain": [
       "<__main__.Array at 0x246406dc810>"
      ]
     },
     "execution_count": 31,
     "metadata": {},
     "output_type": "execute_result"
    }
   ],
   "source": [
    "matrix.__getitem__(1)"
   ]
  },
  {
   "cell_type": "code",
   "execution_count": 32,
   "metadata": {},
   "outputs": [
    {
     "data": {
      "text/plain": [
       "1"
      ]
     },
     "execution_count": 32,
     "metadata": {},
     "output_type": "execute_result"
    }
   ],
   "source": [
    "matrix.__getitem__(2)[0]"
   ]
  },
  {
   "cell_type": "code",
   "execution_count": 33,
   "metadata": {},
   "outputs": [
    {
     "data": {
      "text/plain": [
       "'1 1 1 \\n1 2 3 \\n1 3 5 \\n'"
      ]
     },
     "execution_count": 33,
     "metadata": {},
     "output_type": "execute_result"
    }
   ],
   "source": [
    "matrix.__str__()"
   ]
  },
  {
   "attachments": {},
   "cell_type": "markdown",
   "metadata": {},
   "source": [
    "## Nodos y singly linked list"
   ]
  },
  {
   "cell_type": "code",
   "execution_count": 34,
   "metadata": {},
   "outputs": [],
   "source": [
    "\"\"\"\n",
    "'Nodos y singly linked list'.\n",
    "\n",
    "All the code but the 'Node' class is written in the shell\n",
    "for demonstrative purposes.\n",
    "\n",
    "The node methods should be incorporated into the Node class.\n",
    "\"\"\"\n",
    "\n",
    "class Node(object):\n",
    "    \"Represents a single linked node.\"\n",
    "    def __init__(self, data, next=None):\n",
    "        self.data = data\n",
    "        self.next = next\n"
   ]
  },
  {
   "cell_type": "code",
   "execution_count": 35,
   "metadata": {},
   "outputs": [
    {
     "data": {
      "text/plain": [
       "<__main__.Node at 0x24640fb7b10>"
      ]
     },
     "execution_count": 35,
     "metadata": {},
     "output_type": "execute_result"
    }
   ],
   "source": [
    "# Creating 3 differents nodes \n",
    "node1 = None\n",
    "node2 = Node(\"A\", None)\n",
    "node3 = Node(\"B\", node2)\n",
    "\n",
    "node2"
   ]
  },
  {
   "cell_type": "code",
   "execution_count": 36,
   "metadata": {},
   "outputs": [
    {
     "data": {
      "text/plain": [
       "'A'"
      ]
     },
     "execution_count": 36,
     "metadata": {},
     "output_type": "execute_result"
    }
   ],
   "source": [
    "node2.data"
   ]
  },
  {
   "cell_type": "code",
   "execution_count": 37,
   "metadata": {},
   "outputs": [],
   "source": [
    "node2.next"
   ]
  },
  {
   "cell_type": "code",
   "execution_count": 38,
   "metadata": {},
   "outputs": [
    {
     "data": {
      "text/plain": [
       "<__main__.Node at 0x24640fb7b10>"
      ]
     },
     "execution_count": 38,
     "metadata": {},
     "output_type": "execute_result"
    }
   ],
   "source": [
    "node3.next"
   ]
  },
  {
   "cell_type": "code",
   "execution_count": 39,
   "metadata": {},
   "outputs": [
    {
     "data": {
      "text/plain": [
       "'A'"
      ]
     },
     "execution_count": 39,
     "metadata": {},
     "output_type": "execute_result"
    }
   ],
   "source": [
    "node3.next.data"
   ]
  },
  {
   "cell_type": "code",
   "execution_count": 40,
   "metadata": {},
   "outputs": [],
   "source": [
    "# This causes an Atribute Error\n",
    "# node1.next = node3\n",
    "\n",
    "node1 = Node(\"C\", node3)"
   ]
  },
  {
   "attachments": {},
   "cell_type": "markdown",
   "metadata": {},
   "source": [
    "# Singly linked list\n"
   ]
  },
  {
   "cell_type": "code",
   "execution_count": 41,
   "metadata": {},
   "outputs": [],
   "source": [
    "class SinglyLinkedList:\n",
    "    def __init__(self):\n",
    "        self.head = None\n",
    "        self.tail = None\n",
    "        self.size = 0\n",
    "\n",
    "    def append(self, data):\n",
    "        node = Node(data)\n",
    "\n",
    "        if self.tail == None and self.head == None:\n",
    "            self.head = node\n",
    "            self.tail = node\n",
    "        else:\n",
    "            current = self.tail\n",
    "\n",
    "            while current.next:\n",
    "                current = current.next\n",
    "\n",
    "            current.next = node\n",
    "            self.tail = current.next\n",
    "\n",
    "        self.size += 1\n",
    "\n",
    "    def size(self):\n",
    "        return str(self.size)\n",
    "\n",
    "    def iter(self):\n",
    "        current = self.tail\n",
    "\n",
    "        while current:\n",
    "            value = current.data\n",
    "            current = current.next\n",
    "            yield value  # * Genera valores pero NO los almacena\n",
    "\n",
    "    def delete(self, data):\n",
    "        current = self.tail\n",
    "        previous = self.tail\n",
    "\n",
    "        while current:\n",
    "            if current.data == data:\n",
    "                if current == self.tail:\n",
    "                    self.tail = current.next\n",
    "                else:\n",
    "                    previous.next = current.next\n",
    "                    self.size -= 1\n",
    "                    return current.data\n",
    "\n",
    "            previous = current\n",
    "            current = current.next\n",
    "\n",
    "    def search(self, data):\n",
    "        flag = False\n",
    "        for node in self.iter():\n",
    "            if data == node:\n",
    "                flag = True\n",
    "                print(f'Data {data} found 😎')\n",
    "        if not flag:\n",
    "            print(f'Data {data} not found 😞')\n",
    "\n",
    "    def clear(self):\n",
    "        self.tail = None\n",
    "        self.head = None\n",
    "        self.size = 0\n"
   ]
  },
  {
   "cell_type": "code",
   "execution_count": 42,
   "metadata": {},
   "outputs": [],
   "source": [
    "words = SinglyLinkedList()\n",
    "words.append('egg')\n",
    "words.append('ham')\n",
    "words.append('spam')\n",
    "current = words.tail"
   ]
  },
  {
   "cell_type": "code",
   "execution_count": 43,
   "metadata": {},
   "outputs": [
    {
     "name": "stdout",
     "output_type": "stream",
     "text": [
      "spam\n"
     ]
    }
   ],
   "source": [
    "while current:\n",
    "    print(current.data)\n",
    "    current = current.next"
   ]
  },
  {
   "cell_type": "code",
   "execution_count": 44,
   "metadata": {},
   "outputs": [
    {
     "name": "stdout",
     "output_type": "stream",
     "text": [
      "Data ham not found 😞\n"
     ]
    }
   ],
   "source": [
    "words.search('ham')"
   ]
  },
  {
   "attachments": {},
   "cell_type": "markdown",
   "metadata": {},
   "source": [
    "# Operaciones en single linked structures"
   ]
  },
  {
   "cell_type": "code",
   "execution_count": 45,
   "metadata": {},
   "outputs": [],
   "source": [
    "# * Creación de los nodos enlazados (linked list)\n",
    "head = None\n",
    "for count in range(1,6):\n",
    "    head = Node(count, head)"
   ]
  },
  {
   "cell_type": "code",
   "execution_count": 46,
   "metadata": {},
   "outputs": [
    {
     "name": "stdout",
     "output_type": "stream",
     "text": [
      "Recorrido de la lista:\n",
      "5\n",
      "4\n",
      "3\n",
      "2\n",
      "1\n"
     ]
    }
   ],
   "source": [
    "# * Recorrer e imprimir valores de la lista\n",
    "probe = head\n",
    "print(\"Recorrido de la lista:\")\n",
    "while probe != None:\n",
    "    print(probe.data)\n",
    "    probe = probe.next"
   ]
  },
  {
   "cell_type": "code",
   "execution_count": 47,
   "metadata": {},
   "outputs": [
    {
     "name": "stdout",
     "output_type": "stream",
     "text": [
      "Target item 2 has been found\n"
     ]
    }
   ],
   "source": [
    "# * Busqueda de un elemento\n",
    "probe = head\n",
    "target_item = 2\n",
    "while probe != None and target_item != probe.data:\n",
    "    probe = probe.next\n",
    "\n",
    "if probe != None:\n",
    "    print(f'Target item {target_item} has been found')\n",
    "else:\n",
    "    print(f'Target item 2 has been found')"
   ]
  },
  {
   "cell_type": "code",
   "execution_count": 48,
   "metadata": {},
   "outputs": [
    {
     "name": "stdout",
     "output_type": "stream",
     "text": [
      "Z replace the old value in the node number 3\n"
     ]
    }
   ],
   "source": [
    "# * Remplazo de un elemento\n",
    "probe = head\n",
    "target_item = 3\n",
    "new_item = \"Z\"\n",
    "\n",
    "while probe != None and target_item != probe.data:\n",
    "    probe = probe.next\n",
    "\n",
    "if probe != None:\n",
    "    probe.data = new_item\n",
    "    print(f\"{new_item} replace the old value in the node number {target_item}\")\n",
    "else:\n",
    "    print(f\"The target item {target_item} is not in the linked list\")"
   ]
  },
  {
   "cell_type": "code",
   "execution_count": 49,
   "metadata": {},
   "outputs": [],
   "source": [
    "# * Insertar un nuevo elemento/nodo al inicio(head)\n",
    "head = Node(\"F\", head)"
   ]
  },
  {
   "cell_type": "code",
   "execution_count": 50,
   "metadata": {},
   "outputs": [],
   "source": [
    "# * Insertar un nuevo elemento/nodo al final(tail)\n",
    "new_node = Node(\"K\")\n",
    "if head is None:\n",
    "    head = new_node\n",
    "else:\n",
    "    probe = head\n",
    "    while probe.next != None:\n",
    "        probe = probe.next\n",
    "    probe.next = new_node"
   ]
  },
  {
   "cell_type": "code",
   "execution_count": 51,
   "metadata": {},
   "outputs": [
    {
     "name": "stdout",
     "output_type": "stream",
     "text": [
      "Removed_item: F\n"
     ]
    }
   ],
   "source": [
    "# * Eliminar un elmento/nodo al inicio(head)\n",
    "removed_item = head.data\n",
    "head = head.next\n",
    "print(\"Removed_item: \",end=\"\")\n",
    "print(removed_item)"
   ]
  },
  {
   "cell_type": "code",
   "execution_count": 52,
   "metadata": {},
   "outputs": [
    {
     "name": "stdout",
     "output_type": "stream",
     "text": [
      "Removed_item: K\n"
     ]
    }
   ],
   "source": [
    "# * Eliminar un elmento/nodo al final(tail)\n",
    "removed_item = head.data\n",
    "if head.next is None:\n",
    "    head = None\n",
    "else:\n",
    "    probe = head\n",
    "    while probe.next.next != None:\n",
    "        probe = probe.next\n",
    "    removed_item = probe.next.data\n",
    "    probe.next = None\n",
    "\n",
    "print(\"Removed_item: \",end=\"\")\n",
    "print(removed_item)"
   ]
  },
  {
   "cell_type": "code",
   "execution_count": 53,
   "metadata": {},
   "outputs": [],
   "source": [
    "# * Agregar un nuevo elemento/nodo por \"indice\" inverso(Cuenta de Head - Tail)\n",
    "# new_item = input(\"Enter new item: \")\n",
    "# index = int(input(\"Enter the position to insert the new item: \"))\n",
    "new_item = \"10\"\n",
    "index = 3\n",
    "\n",
    "if head is None or index <= 0:\n",
    "    head = Node(new_item, head)\n",
    "else:\n",
    "    probe = head\n",
    "    while index > 1 and probe.next != None:\n",
    "        probe = probe.next\n",
    "        index -= 1\n",
    "    probe.next = Node(new_item, probe.next)"
   ]
  },
  {
   "cell_type": "code",
   "execution_count": 54,
   "metadata": {},
   "outputs": [],
   "source": [
    "# * Agregar un nuevo elemento/nodo por \"indice\" inverso(Cuenta de Head - Tail)"
   ]
  },
  {
   "cell_type": "code",
   "execution_count": 55,
   "metadata": {},
   "outputs": [
    {
     "name": "stdout",
     "output_type": "stream",
     "text": [
      "Removed_item: 10\n"
     ]
    }
   ],
   "source": [
    "# * Eliminar un nuevo elemento/nodo por \"indice\" inverso(Cuenta de Head - Tail)\n",
    "index = 3\n",
    "\n",
    "if head is None or index <= 0:\n",
    "    removed_item = head.data\n",
    "    head = head.next\n",
    "    print(removed_item)\n",
    "else:\n",
    "    probe = head\n",
    "    while index > 1 and probe.next.next != None:\n",
    "        probe = probe.next\n",
    "        index -= 1\n",
    "    removed_item = probe.next.data\n",
    "    probe.next = probe.next.next\n",
    "\n",
    "    print(\"Removed_item: \",end=\"\")\n",
    "    print(removed_item)\n"
   ]
  },
  {
   "cell_type": "code",
   "execution_count": 56,
   "metadata": {},
   "outputs": [
    {
     "name": "stdout",
     "output_type": "stream",
     "text": [
      "ham\n"
     ]
    }
   ],
   "source": [
    "\"\"\"\n",
    "'Circular Linked List'.\n",
    "\"\"\"\n",
    "\n",
    "class Node(object):\n",
    "    \"Represents a single linked node.\"\n",
    "    def __init__(self, data, next=None):\n",
    "        self.data = data\n",
    "        self.next = next\n",
    "\n",
    "\n",
    "index = 1\n",
    "new_item = \"ham\"\n",
    "\n",
    "head = Node(None, None)\n",
    "head.next = head\n",
    "\n",
    "# Search for node at position index - 1 or the last position\n",
    "probe = head\n",
    "\n",
    "while index > 0 and probe.next != head:\n",
    "    probe = probe.next\n",
    "    index -= 1\n",
    "\n",
    "# Insert new node after node at position index - 1 or last position\n",
    "probe.next = Node(new_item, probe.next)\n",
    "\n",
    "print(probe.next.data)"
   ]
  },
  {
   "cell_type": "code",
   "execution_count": 57,
   "metadata": {},
   "outputs": [
    {
     "name": "stdout",
     "output_type": "stream",
     "text": [
      "5\n",
      "4\n",
      "3\n",
      "2\n",
      "1\n"
     ]
    }
   ],
   "source": [
    "\"\"\"\n",
    "'Double Linked List'.\n",
    "\"\"\"\n",
    "\n",
    "class Node(object):\n",
    "    def __init__(self, data, next=None):\n",
    "        self.data = data\n",
    "        self.next = next\n",
    "\n",
    "class TwoWayNode(Node):\n",
    "    def __init__(self, data, previous=None, next=None):\n",
    "        Node.__init__(self, data, next)\n",
    "        self.previous = previous\n",
    "\n",
    "# Create a doubly linked list with one node\n",
    "head = TwoWayNode(1)\n",
    "tail = head\n",
    "\n",
    "# Add four node to the end of the linked list\n",
    "for data in range(2, 6):\n",
    "    tail.next = TwoWayNode(data, tail)\n",
    "    tail = tail.next\n",
    "\n",
    "# Print the contents of the linked list in reverse order\n",
    "probe = tail\n",
    "\n",
    "while probe != None:\n",
    "    print(probe.data)\n",
    "    probe = probe.previous\n"
   ]
  },
  {
   "cell_type": "code",
   "execution_count": 58,
   "metadata": {},
   "outputs": [],
   "source": [
    "\"\"\"\n",
    "Double Node\n",
    "\"\"\"\n",
    "class Node(object):\n",
    "    def __init__(self, data=None, next=None, previous=None):\n",
    "        self.data = data\n",
    "        self.next = next\n",
    "        self.previous = previous\n",
    "\n",
    "class DoublyLinkedList(object):\n",
    "    def __init__(self):\n",
    "        self.head = None\n",
    "        self.tail = None\n",
    "        self.count = 0\n",
    "\n",
    "    def append(self, data):\n",
    "        \"\"\" Append an item to the list. \"\"\"\n",
    "        new_node = Node(data, None, None)\n",
    "\n",
    "        if self.head is None:\n",
    "            self.head = new_node\n",
    "            self.tail = self.head\n",
    "        else:\n",
    "            new_node.previous = self.tail\n",
    "            self.tail.next = new_node\n",
    "            self.tail = new_node\n",
    "            self.cout += 1\n",
    "\n",
    "    def delete(self, data):\n",
    "        current = self.head\n",
    "        node_deleted = False\n",
    "\n",
    "        if current is None:\n",
    "            node_deleted = False\n",
    "        elif current.data == data:\n",
    "            self.head = current.next\n",
    "            self.head.previous = None\n",
    "            node_deleted = True\n",
    "        elif self.tail.data == data:\n",
    "            self.tail = self.tail.previous\n",
    "            self.tail.next = None\n",
    "            node_deleted = True\n",
    "        else:\n",
    "            while current:\n",
    "                if current.data == data:\n",
    "                    current.previous.next = current.next\n",
    "                    current.next.previous = current.previous\n",
    "                    node_deleted = True\n",
    "\n",
    "                current = current.next\n",
    "\n",
    "            if node_deleted:\n",
    "                self.count -= 1\n",
    "\n",
    "    def contain(self, data):\n",
    "        for node_data in self.iter():\n",
    "            if data == node_data:\n",
    "                return True\n",
    "\n",
    "            return False\n",
    "\n",
    "    def clear(self):\n",
    "        \"\"\" Clear the entire list. \"\"\"\n",
    "        self.tail = None\n",
    "        self.head = None\n",
    "        self.size = 0"
   ]
  },
  {
   "attachments": {},
   "cell_type": "markdown",
   "metadata": {},
   "source": [
    "## Stacks\n"
   ]
  },
  {
   "cell_type": "code",
   "execution_count": 59,
   "metadata": {},
   "outputs": [],
   "source": [
    "\"\"\"\n",
    "Code used for the class 'Crear un stack'.\n",
    "Los Stacks se pueden crear con nodos o con arrays\n",
    "\"\"\"\n",
    "\n",
    "\n",
    "class Node:\n",
    "    def __init__(self, data=None):\n",
    "        self.data = data\n",
    "        self.next = None\n",
    "\n",
    "class Stack:\n",
    "    def __init__(self):\n",
    "        self.top = None\n",
    "        self.size = 0\n",
    "\n",
    "    def push(self, data):\n",
    "        \"\"\" Appends an element on top. \"\"\"\n",
    "        node = Node(data)\n",
    "\n",
    "        if self.top:\n",
    "            node.next = self.top\n",
    "            self.top = node\n",
    "        else:\n",
    "            self.top = node\n",
    "\n",
    "        self.size += 1\n",
    "\n",
    "    def pop(self):\n",
    "        \"\"\" Removes and returns the element on top. \"\"\"\n",
    "        if self.top:\n",
    "            data = self.top.data\n",
    "            self.size -= 1\n",
    "\n",
    "            if self.top.next:\n",
    "                self.top = self.top.next\n",
    "            else:\n",
    "                self.top = None\n",
    "\n",
    "            return data\n",
    "        \n",
    "        else:\n",
    "            return \"The stack is empty\"\n",
    "\n",
    "    def peek(self):\n",
    "        if self.top:\n",
    "            return self.top.data\n",
    "        else:\n",
    "            return \"The stack is empty\"\n",
    "\n",
    "    def clear(self):\n",
    "        while self.top:\n",
    "            self.pop()"
   ]
  },
  {
   "cell_type": "code",
   "execution_count": 60,
   "metadata": {},
   "outputs": [],
   "source": [
    "food = Stack()\n",
    "food.push('egg')\n",
    "food.push('ham')\n",
    "food.push('spam')"
   ]
  },
  {
   "cell_type": "code",
   "execution_count": 61,
   "metadata": {},
   "outputs": [
    {
     "data": {
      "text/plain": [
       "'spam'"
      ]
     },
     "execution_count": 61,
     "metadata": {},
     "output_type": "execute_result"
    }
   ],
   "source": [
    "food.pop()"
   ]
  },
  {
   "cell_type": "code",
   "execution_count": 62,
   "metadata": {},
   "outputs": [
    {
     "data": {
      "text/plain": [
       "'ham'"
      ]
     },
     "execution_count": 62,
     "metadata": {},
     "output_type": "execute_result"
    }
   ],
   "source": [
    "food.peek()"
   ]
  },
  {
   "cell_type": "code",
   "execution_count": 63,
   "metadata": {},
   "outputs": [],
   "source": [
    "food.clear()"
   ]
  },
  {
   "cell_type": "code",
   "execution_count": 64,
   "metadata": {},
   "outputs": [
    {
     "data": {
      "text/plain": [
       "'The stack is empty'"
      ]
     },
     "execution_count": 64,
     "metadata": {},
     "output_type": "execute_result"
    }
   ],
   "source": [
    "food.peek()"
   ]
  },
  {
   "attachments": {},
   "cell_type": "markdown",
   "metadata": {},
   "source": [
    "## Queues: COLAS (FiFo)"
   ]
  },
  {
   "cell_type": "code",
   "execution_count": 68,
   "metadata": {},
   "outputs": [],
   "source": [
    "\"\"\"\n",
    "Code used during the class 'Queues basadas en listas'.\n",
    "\"\"\"\n",
    "\n",
    "class ListQueue:\n",
    "    def __init__(self):\n",
    "        self.items = []\n",
    "        self.size = 0\n",
    "\n",
    "    def enqueue(self, data):\n",
    "        self.items.insert(0, data)\n",
    "        self.size += 1\n",
    "\n",
    "    def dequeue(self):\n",
    "        data = self.items.pop()\n",
    "        self.size -= 1\n",
    "        return data\n",
    "\n",
    "    def traverse(self):\n",
    "        total_items = self.size\n",
    "\n",
    "        for item in total_items:\n",
    "            print(self.items[item])\n",
    "\n",
    "\n"
   ]
  },
  {
   "cell_type": "code",
   "execution_count": 66,
   "metadata": {},
   "outputs": [
    {
     "name": "stdout",
     "output_type": "stream",
     "text": [
      "spam\n",
      "ham\n",
      "eegs\n"
     ]
    }
   ],
   "source": [
    "\n",
    "x = ListQueue()\n",
    "x.enqueue('eegs')\n",
    "x.enqueue('ham')\n",
    "x.enqueue('spam')\n",
    "x.items\n",
    "\n",
    "for i in range(x.size):\n",
    "    print(x.items[i])\n",
    "\n"
   ]
  }
 ],
 "metadata": {
  "kernelspec": {
   "display_name": "Python 3",
   "language": "python",
   "name": "python3"
  },
  "language_info": {
   "codemirror_mode": {
    "name": "ipython",
    "version": 3
   },
   "file_extension": ".py",
   "mimetype": "text/x-python",
   "name": "python",
   "nbconvert_exporter": "python",
   "pygments_lexer": "ipython3",
   "version": "3.11.6"
  },
  "orig_nbformat": 4
 },
 "nbformat": 4,
 "nbformat_minor": 2
}
